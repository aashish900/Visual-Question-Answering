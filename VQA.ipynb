{
  "nbformat": 4,
  "nbformat_minor": 0,
  "metadata": {
    "colab": {
      "name": "Finalof NNFL_Scratch.ipynb",
      "version": "0.3.2",
      "provenance": [],
      "collapsed_sections": []
    },
    "kernelspec": {
      "name": "python3",
      "display_name": "Python 3"
    },
    "accelerator": "GPU"
  },
  "cells": [
    {
      "metadata": {
        "id": "7bMSz3mTljrx",
        "colab_type": "code",
        "outputId": "0f392204-b77e-4995-cef9-a0221ab824fc",
        "colab": {
          "base_uri": "https://localhost:8080/",
          "height": 34
        }
      },
      "cell_type": "code",
      "source": [
        "from google.colab import drive\n",
        "drive.mount('/content/gdrive')"
      ],
      "execution_count": 0,
      "outputs": [
        {
          "output_type": "stream",
          "text": [
            "Drive already mounted at /content/gdrive; to attempt to forcibly remount, call drive.mount(\"/content/gdrive\", force_remount=True).\n"
          ],
          "name": "stdout"
        }
      ]
    },
    {
      "metadata": {
        "id": "YQz3OaX_haPe",
        "colab_type": "text"
      },
      "cell_type": "markdown",
      "source": [
        "### **Check GPU and RAM availability**"
      ]
    },
    {
      "metadata": {
        "id": "Psb_ieWOhg84",
        "colab_type": "code",
        "outputId": "4440508a-f983-428c-df8e-965a52830eb9",
        "colab": {
          "base_uri": "https://localhost:8080/",
          "height": 119
        }
      },
      "cell_type": "code",
      "source": [
        "# memory footprint support libraries/code\n",
        "!ln -sf /opt/bin/nvidia-smi /usr/bin/nvidia-smi\n",
        "!pip install gputil\n",
        "!pip install psutil\n",
        "\n",
        "!pip install humanize\n",
        "import psutil\n",
        "import humanize\n",
        "import os\n",
        "import GPUtil as GPU\n",
        "GPUs = GPU.getGPUs()\n",
        "# XXX: only one GPU on Colab and isn’t guaranteed\n",
        "gpu = GPUs[0]\n",
        "def printm():\n",
        "  process = psutil.Process(os.getpid())\n",
        "  print(\"Gen RAM Free: \" + humanize.naturalsize( psutil.virtual_memory().available ), \" | Proc size: \" + humanize.naturalsize( process.memory_info().rss))\n",
        "  print(\"GPU RAM Free: {0:.0f}MB | Used: {1:.0f}MB | Util {2:3.0f}% | Total {3:.0f}MB\".format(gpu.memoryFree, gpu.memoryUsed, gpu.memoryUtil*100, gpu.memoryTotal))\n",
        "printm()"
      ],
      "execution_count": 0,
      "outputs": [
        {
          "output_type": "stream",
          "text": [
            "Requirement already satisfied: gputil in /usr/local/lib/python3.6/dist-packages (1.3.0)\n",
            "Requirement already satisfied: numpy in /usr/local/lib/python3.6/dist-packages (from gputil) (1.14.6)\n",
            "Requirement already satisfied: psutil in /usr/local/lib/python3.6/dist-packages (5.4.8)\n",
            "Requirement already satisfied: humanize in /usr/local/lib/python3.6/dist-packages (0.5.1)\n",
            "Gen RAM Free: 12.9 GB  | Proc size: 138.9 MB\n",
            "GPU RAM Free: 11441MB | Used: 0MB | Util   0% | Total 11441MB\n"
          ],
          "name": "stdout"
        }
      ]
    },
    {
      "metadata": {
        "id": "5cRiVlqcCcs5",
        "colab_type": "text"
      },
      "cell_type": "markdown",
      "source": [
        "### **Download Data**"
      ]
    },
    {
      "metadata": {
        "id": "9dk4NGYoNtpE",
        "colab_type": "code",
        "outputId": "c4ad61a6-cc14-4aff-e976-dde11e9e0902",
        "colab": {
          "base_uri": "https://localhost:8080/",
          "height": 307
        }
      },
      "cell_type": "code",
      "source": [
        "'''\n",
        "Link to file in google drive\n",
        "'''\n",
        "\n",
        "# https://drive.google.com/open?id=19l8nja9Sr7iGs4H3rpKpwCarLXH8h3mM\n",
        "\n",
        "'''\n",
        "File ID = 19l8nja9Sr7iGs4H3rpKpwCarLXH8h3mM\n",
        "'''\n",
        "# Download data from drive\n",
        "!wget --load-cookies /tmp/cookies.txt \"https://docs.google.com/uc?export=download&confirm=$(wget --quiet --save-cookies /tmp/cookies.txt --keep-session-cookies --no-check-certificate 'https://docs.google.com/uc?export=download&id=19l8nja9Sr7iGs4H3rpKpwCarLXH8h3mM' -O- | sed -rn 's/.*confirm=([0-9A-Za-z_]+).*/\\1\\n/p')&id=19l8nja9Sr7iGs4H3rpKpwCarLXH8h3mM\" -O NNFL && rm -rf /tmp/cookies.txt"
      ],
      "execution_count": 0,
      "outputs": [
        {
          "output_type": "stream",
          "text": [
            "--2018-11-24 13:22:48--  https://docs.google.com/uc?export=download&confirm=M1so&id=19l8nja9Sr7iGs4H3rpKpwCarLXH8h3mM\n",
            "Resolving docs.google.com (docs.google.com)... 74.125.126.100, 74.125.126.113, 74.125.126.102, ...\n",
            "Connecting to docs.google.com (docs.google.com)|74.125.126.100|:443... connected.\n",
            "HTTP request sent, awaiting response... 302 Moved Temporarily\n",
            "Location: https://doc-08-ac-docs.googleusercontent.com/docs/securesc/ha0ro937gcuc7l7deffksulhg5h7mbp1/6n06hbb3cd6n4d79g6k3topb66bgee5v/1543060800000/04092678945227382373/*/19l8nja9Sr7iGs4H3rpKpwCarLXH8h3mM?e=download [following]\n",
            "Warning: wildcards not supported in HTTP.\n",
            "--2018-11-24 13:22:48--  https://doc-08-ac-docs.googleusercontent.com/docs/securesc/ha0ro937gcuc7l7deffksulhg5h7mbp1/6n06hbb3cd6n4d79g6k3topb66bgee5v/1543060800000/04092678945227382373/*/19l8nja9Sr7iGs4H3rpKpwCarLXH8h3mM?e=download\n",
            "Resolving doc-08-ac-docs.googleusercontent.com (doc-08-ac-docs.googleusercontent.com)... 108.177.112.132, 2607:f8b0:4001:c12::84\n",
            "Connecting to doc-08-ac-docs.googleusercontent.com (doc-08-ac-docs.googleusercontent.com)|108.177.112.132|:443... connected.\n",
            "HTTP request sent, awaiting response... 200 OK\n",
            "Length: unspecified [application/x-zip-compressed]\n",
            "Saving to: ‘NNFL’\n",
            "\n",
            "NNFL                    [                 <=>] 464.73M   139MB/s    in 3.5s    \n",
            "\n",
            "2018-11-24 13:22:52 (134 MB/s) - ‘NNFL’ saved [487306421]\n",
            "\n"
          ],
          "name": "stdout"
        }
      ]
    },
    {
      "metadata": {
        "id": "UQ6QhDcw98D6",
        "colab_type": "code",
        "outputId": "ba41cb1b-0fec-46ae-8132-092662e685da",
        "colab": {
          "base_uri": "https://localhost:8080/",
          "height": 68
        }
      },
      "cell_type": "code",
      "source": [
        "!ls"
      ],
      "execution_count": 0,
      "outputs": [
        {
          "output_type": "stream",
          "text": [
            "gdrive\tNNFL_checkpoint_model_CNN.h5  NNFL.zip\t\t  tokenizer.pickle\n",
            "images\tNNFL_Project_NEW_CNN_1.h5     Quest_Answers.json\n",
            "NNFL\tNNFL_Project_NEW_CNN.h5       sample_data\n"
          ],
          "name": "stdout"
        }
      ]
    },
    {
      "metadata": {
        "id": "bRkpRSrT_GSc",
        "colab_type": "code",
        "colab": {}
      },
      "cell_type": "code",
      "source": [
        "!mv NNFL NNFL.zip"
      ],
      "execution_count": 0,
      "outputs": []
    },
    {
      "metadata": {
        "id": "O-2xQ-u9_dEh",
        "colab_type": "code",
        "outputId": "90b96fe3-9812-48ae-867c-076d04fb2f19",
        "colab": {
          "base_uri": "https://localhost:8080/",
          "height": 68
        }
      },
      "cell_type": "code",
      "source": [
        "!ls"
      ],
      "execution_count": 0,
      "outputs": [
        {
          "output_type": "stream",
          "text": [
            "gdrive\t\t\t      NNFL_Project_NEW_CNN_1.h5  Quest_Answers.json\n",
            "images\t\t\t      NNFL_Project_NEW_CNN.h5\t sample_data\n",
            "NNFL_checkpoint_model_CNN.h5  NNFL.zip\t\t\t tokenizer.pickle\n"
          ],
          "name": "stdout"
        }
      ]
    },
    {
      "metadata": {
        "id": "3UziiqXClS7I",
        "colab_type": "text"
      },
      "cell_type": "markdown",
      "source": [
        "### **Unzip the Data**"
      ]
    },
    {
      "metadata": {
        "id": "FfvWcqcF_roo",
        "colab_type": "code",
        "outputId": "e28d88a8-b1ce-4e09-e465-7efa5c963bce",
        "colab": {
          "base_uri": "https://localhost:8080/",
          "height": 68
        }
      },
      "cell_type": "code",
      "source": [
        "!unzip NNFL.zip"
      ],
      "execution_count": 0,
      "outputs": [
        {
          "output_type": "stream",
          "text": [
            "Archive:  NNFL.zip\n",
            "replace images/CLEVR_new_000015.png? [y]es, [n]o, [A]ll, [N]one, [r]ename: n\n",
            "replace images/CLEVR_new_000027.png? [y]es, [n]o, [A]ll, [N]one, [r]ename: N\n"
          ],
          "name": "stdout"
        }
      ]
    },
    {
      "metadata": {
        "id": "G1QvDXTQCaOs",
        "colab_type": "text"
      },
      "cell_type": "markdown",
      "source": [
        "##Keras code"
      ]
    },
    {
      "metadata": {
        "id": "sCvTpK8jCboW",
        "colab_type": "code",
        "outputId": "e10364f7-3025-4d2c-e568-127ffc8e7285",
        "colab": {
          "base_uri": "https://localhost:8080/",
          "height": 34
        }
      },
      "cell_type": "code",
      "source": [
        "from __future__ import print_function\n",
        "import json\n",
        "import os.path\n",
        "#import random as ra\n",
        "import random\n",
        "#import tensorflow as tf\n",
        "from keras.backend import tf\n",
        "import numpy as np\n",
        "import keras\n",
        "from keras.optimizers import Adam\n",
        "from keras import backend as K\n",
        "from keras.layers import Input, Dense, Dropout, BatchNormalization, Reshape, Lambda, Embedding, LSTM, Conv2D, Activation\n",
        "from keras.layers import MaxPooling2D, TimeDistributed, RepeatVector, Concatenate, Bidirectional, Conv1D, MaxPooling1D\n",
        "from keras.models import Model\n",
        "from keras.preprocessing.text import Tokenizer\n",
        "from keras.preprocessing import sequence\n",
        "from keras.models import Sequential, Model\n",
        "from keras.callbacks import ModelCheckpoint, TensorBoard\n",
        "from scipy import ndimage, misc\n",
        "import pickle"
      ],
      "execution_count": 0,
      "outputs": [
        {
          "output_type": "stream",
          "text": [
            "Using TensorFlow backend.\n"
          ],
          "name": "stderr"
        }
      ]
    },
    {
      "metadata": {
        "id": "IVRm8qlhOr1F",
        "colab_type": "code",
        "colab": {}
      },
      "cell_type": "code",
      "source": [
        "#with open(\"Quest_Answers.json\") as f:\n",
        "#    data= json.load(f);\n",
        "  \n",
        "#data= data[\"quest_answers\"]\n",
        "#data"
      ],
      "execution_count": 0,
      "outputs": []
    },
    {
      "metadata": {
        "id": "LH65Vhh3Pdid",
        "colab_type": "code",
        "outputId": "cf583c8b-51e9-47f9-f3ec-24fe584fe9d3",
        "colab": {
          "base_uri": "https://localhost:8080/",
          "height": 68
        }
      },
      "cell_type": "code",
      "source": [
        "ls"
      ],
      "execution_count": 0,
      "outputs": [
        {
          "output_type": "stream",
          "text": [
            "\u001b[0m\u001b[01;34mgdrive\u001b[0m/                       NNFL_Project_NEW_CNN_1.h5  Quest_Answers.json\n",
            "\u001b[01;34mimages\u001b[0m/                       NNFL_Project_NEW_CNN.h5    \u001b[01;34msample_data\u001b[0m/\n",
            "NNFL_checkpoint_model_CNN.h5  NNFL.zip                   tokenizer.pickle\n"
          ],
          "name": "stdout"
        }
      ]
    },
    {
      "metadata": {
        "id": "qU51byytCSLc",
        "colab_type": "code",
        "colab": {}
      },
      "cell_type": "code",
      "source": [
        "def load_data(split, n, vocab_size, sequence_length, tokenizer=None):\n",
        "  # Dataset paths\n",
        "  #path = '../../Datasets/CLEVR_v1.0'\n",
        "  #questions_path = path + '/questions/CLEVR_' + split + '_questions.json'\n",
        "  #subset_questions_path = path + '/questions/CLEVR_' + split + '_questions_' + str(n) + '.json'\n",
        "  #images_path = path + '/images/' + split + '/'\n",
        "\n",
        "  x_text = []     # List of questions\n",
        "  x_image = []    # List of images\n",
        "  y = []          # List of answers\n",
        "  num_labels = 0  # Current number of labels, used to create index mapping\n",
        "  labels = {}     # Dictionary mapping of ints to labels\n",
        "  images = {}     # Dictionary of images, to minimize number of imread ops\n",
        "  #x_index = []\n",
        "\n",
        "  # Attempt to load saved JSON subset of the questions\n",
        "  print('Loading data...')\n",
        "\n",
        "  \"\"\"fos.path.exists(subset_questions_path):\n",
        "    with open(subset_questions_path) as f:\n",
        "      data = json.load(f)\n",
        "  else:\n",
        "    with open(questions_path) as f:\n",
        "      data = json.load(f)\n",
        "\n",
        "    data = data['questions'][0:n]\n",
        "\n",
        "    with open(subset_questions_path, 'w') as outfile:\n",
        "      json.dump(data, outfile)\n",
        "\n",
        "    print('JSON subset saved to file...')\"\"\"\n",
        "  \n",
        "  with open(\"Quest_Answers.json\") as f:\n",
        "    data= json.load(f);\n",
        "  \n",
        "  data= data[\"quest_answers\"][0:n]\n",
        "  for i in data:\n",
        "    i[\"Answer\"] = str(i[\"Answer\"])\n",
        "  \n",
        "  # Store image data and labels in dictionaries\n",
        "  print('Storing image data...')\n",
        "\n",
        "  for q in data[0:n]:\n",
        "    # Create an index for each answer\n",
        "    if not q[\"Answer\"] in labels:\n",
        "      labels[q['Answer']] = num_labels\n",
        "      num_labels += 1\n",
        "\n",
        "    # Create an index for each image\n",
        "    if not q['Image'] in images:\n",
        "      images[q['Image']] = misc.imread('images/' + q['Image'] + '.png', mode='RGB')\n",
        "\n",
        "    x_text.append(q['Question'])\n",
        "    x_image.append(images[q['Image']])\n",
        "    #x_index.append((q['Index']))\n",
        "    y.append(labels[q['Answer']])\n",
        "\n",
        "  # Convert question corpus into sequential encoding for LSTM\n",
        "  print('Processing text data...')\n",
        "\n",
        "  if not tokenizer:\n",
        "    tokenizer = Tokenizer(num_words=vocab_size)\n",
        "\n",
        "  tokenizer.fit_on_texts(x_text)\n",
        "  sequences = tokenizer.texts_to_sequences(x_text)\n",
        "  x_text = sequence.pad_sequences(sequences, maxlen=sequence_length)\n",
        "\n",
        "  # Convert x_image to np array\n",
        "  x_image = np.array(x_image)\n",
        "\n",
        "  # Convert labels to categorical labels\n",
        "  y = keras.utils.to_categorical(y, num_labels)\n",
        "\n",
        "  print('Text: ', x_text.shape)\n",
        "  print('Image: ', x_image.shape)\n",
        "  print('Labels: ', y.shape)\n",
        "\n",
        "  return ([x_text, x_image], y), num_labels, tokenizer"
      ],
      "execution_count": 0,
      "outputs": []
    },
    {
      "metadata": {
        "id": "6t-1tNi4DrNX",
        "colab_type": "code",
        "colab": {}
      },
      "cell_type": "code",
      "source": [
        "#\n",
        "# Environment Parameters\n",
        "#\n",
        "samples = 135000\n",
        "epochs = 5\n",
        "batch_size = 64\n",
        "learning_rate = .00025\n",
        "vocab_size = 1024\n",
        "sequence_length = 48\n",
        "img_rows, img_cols = 120, 160\n",
        "image_input_shape = (img_rows, img_cols, 3)\n"
      ],
      "execution_count": 0,
      "outputs": []
    },
    {
      "metadata": {
        "id": "CIlA5b5QDxas",
        "colab_type": "code",
        "outputId": "e4693812-1ae1-4710-9f50-69eb9060556a",
        "colab": {
          "base_uri": "https://localhost:8080/",
          "height": 170
        }
      },
      "cell_type": "code",
      "source": [
        "#\n",
        "# Load & Preprocess CLEVR\n",
        "#\n",
        "(x_train, y_train), num_labels, tokenizer = load_data('train', samples, vocab_size, sequence_length)"
      ],
      "execution_count": 0,
      "outputs": [
        {
          "output_type": "stream",
          "text": [
            "Loading data...\n",
            "Storing image data...\n"
          ],
          "name": "stdout"
        },
        {
          "output_type": "stream",
          "text": [
            "/usr/local/lib/python3.6/dist-packages/ipykernel_launcher.py:51: DeprecationWarning: `imread` is deprecated!\n",
            "`imread` is deprecated in SciPy 1.0.0, and will be removed in 1.2.0.\n",
            "Use ``imageio.imread`` instead.\n"
          ],
          "name": "stderr"
        },
        {
          "output_type": "stream",
          "text": [
            "Processing text data...\n",
            "Text:  (135000, 48)\n",
            "Image:  (135000, 120, 160, 3)\n",
            "Labels:  (135000, 26)\n"
          ],
          "name": "stdout"
        }
      ]
    },
    {
      "metadata": {
        "id": "HM6bfUJVGA7U",
        "colab_type": "code",
        "colab": {}
      },
      "cell_type": "code",
      "source": [
        "# saving\n",
        "with open('tokenizer.pickle', 'wb') as handle:\n",
        "    pickle.dump(tokenizer, handle, protocol=pickle.HIGHEST_PROTOCOL)\n",
        "\n",
        "# loading\n",
        "with open('tokenizer.pickle', 'rb') as handle:\n",
        "    tokenizer = pickle.load(handle)"
      ],
      "execution_count": 0,
      "outputs": []
    },
    {
      "metadata": {
        "id": "pSGdmKR3k-vi",
        "colab_type": "code",
        "colab": {}
      },
      "cell_type": "code",
      "source": [
        "cp gdrive/My\\ Drive/tokenizer.pickle tokenizer.pickle "
      ],
      "execution_count": 0,
      "outputs": []
    },
    {
      "metadata": {
        "id": "GtXuBH06lIFX",
        "colab_type": "code",
        "colab": {}
      },
      "cell_type": "code",
      "source": [
        "with open('tokenizer.pickle', 'rb') as handle:\n",
        "    tokenizer = pickle.load(handle)"
      ],
      "execution_count": 0,
      "outputs": []
    },
    {
      "metadata": {
        "id": "TOaQN6wlGLUL",
        "colab_type": "code",
        "outputId": "d14f92c2-9b80-4639-d817-bc2c08fe388b",
        "colab": {
          "base_uri": "https://localhost:8080/",
          "height": 68
        }
      },
      "cell_type": "code",
      "source": [
        "ls"
      ],
      "execution_count": 0,
      "outputs": [
        {
          "output_type": "stream",
          "text": [
            "\u001b[0m\u001b[01;34mgdrive\u001b[0m/                       NNFL_Project_NEW_CNN_1.h5  Quest_Answers.json\n",
            "\u001b[01;34mimages\u001b[0m/                       NNFL_Project_NEW_CNN.h5    \u001b[01;34msample_data\u001b[0m/\n",
            "NNFL_checkpoint_model_CNN.h5  NNFL.zip                   tokenizer.pickle\n"
          ],
          "name": "stdout"
        }
      ]
    },
    {
      "metadata": {
        "id": "3-4GIGZjN-Mr",
        "colab_type": "code",
        "outputId": "72fe1236-04fe-4ab9-95e9-822ee082bd11",
        "colab": {
          "base_uri": "https://localhost:8080/",
          "height": 51
        }
      },
      "cell_type": "code",
      "source": [
        "print(\"x_train[0].shape = Text: {}\".format(x_train[0].shape))\n",
        "print(\"x_train[1].shape = Image: {}\".format(x_train[1].shape))"
      ],
      "execution_count": 0,
      "outputs": [
        {
          "output_type": "stream",
          "text": [
            "x_train[0].shape = Text: (135000, 48)\n",
            "x_train[1].shape = Image: (135000, 120, 160, 3)\n"
          ],
          "name": "stdout"
        }
      ]
    },
    {
      "metadata": {
        "id": "ojfUOqT8LvWF",
        "colab_type": "text"
      },
      "cell_type": "markdown",
      "source": [
        "## **New Start**"
      ]
    },
    {
      "metadata": {
        "id": "fmybW6lBL5Ek",
        "colab_type": "code",
        "colab": {}
      },
      "cell_type": "code",
      "source": [
        "from keras.applications.vgg16 import VGG16\n",
        "from keras.preprocessing.image import load_img\n",
        "from keras.preprocessing.image import img_to_array\n",
        "from keras.applications.vgg16 import preprocess_input\n",
        "from keras.layers import Input"
      ],
      "execution_count": 0,
      "outputs": []
    },
    {
      "metadata": {
        "id": "XWTnYNCCfmYO",
        "colab_type": "code",
        "colab": {}
      },
      "cell_type": "code",
      "source": [
        "def vgg(shape):\n",
        "  image_in = Input(shape = shape) \n",
        "  model = VGG16(include_top = False, weights = 'imagenet')#, input_tensor = image_in)\n",
        "  #print(model.summary())\n",
        "  return model"
      ],
      "execution_count": 0,
      "outputs": []
    },
    {
      "metadata": {
        "id": "F3HsAuG5TbZ9",
        "colab_type": "code",
        "colab": {}
      },
      "cell_type": "code",
      "source": [
        "def lstm(sequence_length, text_in):\n",
        "  #text_in = Input(shape = (sequence_length,), name = 'text_in')\n",
        "  text_in = text_in\n",
        "  emb = Embedding(output_dim=256, input_dim=vocab_size, input_length=64)(text_in)\n",
        "  emb = LSTM(256)(emb)\n",
        "  emb = Dropout(0.5)(emb)\n",
        "  return emb"
      ],
      "execution_count": 0,
      "outputs": []
    },
    {
      "metadata": {
        "id": "KQ0gJOCXXDbv",
        "colab_type": "code",
        "colab": {}
      },
      "cell_type": "code",
      "source": [
        "# Load model\n",
        "\n",
        "def conv(shape, image_in):\n",
        "  #image_in = Input(shape = shape, name = 'image_in')\n",
        "  image_in = image_in\n",
        "  image_x = Conv2D(24, kernel_size=(3, 3), strides=2, activation='relu')(image_in)\n",
        "  image_x = BatchNormalization()(image_x)\n",
        "  image_x = Conv2D(48, kernel_size=(3, 3), strides=2, activation='relu')(image_x)\n",
        "  image_x = BatchNormalization()(image_x)\n",
        "  image_x = Conv2D(48, kernel_size=(3, 3), strides=2, activation='relu')(image_x)\n",
        "  image_x = BatchNormalization()(image_x)\n",
        "  image_x = Conv2D(64, kernel_size=(3, 3), strides=2, activation='relu')(image_x)\n",
        "  image_x = BatchNormalization()(image_x)\n",
        "  image_x = Conv2D(64, kernel_size=(3, 3), strides=2, activation='relu')(image_x)\n",
        "  image_x = BatchNormalization()(image_x)\n",
        "  image_x = keras.layers.Flatten()(image_x)\n",
        "  #image_x = Conv2D(24, kernel_size=(3, 3), strides=2, activation='relu')(image_x)\n",
        "  #image_x = BatchNormalization()(image_x)\n",
        "  return image_x"
      ],
      "execution_count": 0,
      "outputs": []
    },
    {
      "metadata": {
        "id": "wQ-KXdZHErGk",
        "colab_type": "code",
        "colab": {}
      },
      "cell_type": "code",
      "source": [
        "def conv1D(sequence_length, text_in):\n",
        "  text_in = text_in\n",
        "  emb = Embedding(output_dim=256, input_dim=vocab_size, input_length=sequence_length)(text_in)\n",
        "  emb = Conv1D(128, kernel_size = 3, strides = 2, activation = 'relu')(emb)\n",
        "  emb = BatchNormalization()(emb)\n",
        "  emb = keras.layers.Flatten()(emb)\n",
        "  return emb"
      ],
      "execution_count": 0,
      "outputs": []
    },
    {
      "metadata": {
        "id": "2-VfkycNNXKF",
        "colab_type": "code",
        "colab": {}
      },
      "cell_type": "code",
      "source": [
        "shape = (120, 160, 3)\n",
        "text_in = Input(shape = (sequence_length,), name = 'text_in')\n",
        "image_in = Input(shape = shape, name = 'image_in')"
      ],
      "execution_count": 0,
      "outputs": []
    },
    {
      "metadata": {
        "id": "2ttqTeiBvWOd",
        "colab_type": "code",
        "colab": {}
      },
      "cell_type": "code",
      "source": [
        "conv = conv(shape, image_in)"
      ],
      "execution_count": 0,
      "outputs": []
    },
    {
      "metadata": {
        "id": "FQzE1WFrXt9J",
        "colab_type": "code",
        "colab": {}
      },
      "cell_type": "code",
      "source": [
        "#vgg = vgg(shape)"
      ],
      "execution_count": 0,
      "outputs": []
    },
    {
      "metadata": {
        "id": "TLkJ5fo6gJu4",
        "colab_type": "code",
        "colab": {}
      },
      "cell_type": "code",
      "source": [
        "lstm = conv1D(sequence_length, text_in)"
      ],
      "execution_count": 0,
      "outputs": []
    },
    {
      "metadata": {
        "id": "YoiBCLcucafm",
        "colab_type": "code",
        "colab": {}
      },
      "cell_type": "code",
      "source": [
        "x = keras.layers.concatenate([lstm, conv], axis=-1)"
      ],
      "execution_count": 0,
      "outputs": []
    },
    {
      "metadata": {
        "id": "xJWsJ4427hIH",
        "colab_type": "code",
        "colab": {}
      },
      "cell_type": "code",
      "source": [
        "x = Dropout(0.5)(x)"
      ],
      "execution_count": 0,
      "outputs": []
    },
    {
      "metadata": {
        "id": "HAAs-X0X7jKC",
        "colab_type": "code",
        "colab": {}
      },
      "cell_type": "code",
      "source": [
        "x = Dense(256, activation = 'relu')(x)"
      ],
      "execution_count": 0,
      "outputs": []
    },
    {
      "metadata": {
        "id": "5uVd1Bq57lCD",
        "colab_type": "code",
        "colab": {}
      },
      "cell_type": "code",
      "source": [
        "x = Dropout(0.5)(x)"
      ],
      "execution_count": 0,
      "outputs": []
    },
    {
      "metadata": {
        "id": "Qsdfyqs77rPN",
        "colab_type": "code",
        "colab": {}
      },
      "cell_type": "code",
      "source": [
        "outputs = Dense(26, activation = 'softmax')(x)"
      ],
      "execution_count": 0,
      "outputs": []
    },
    {
      "metadata": {
        "id": "VBjX9STxafm2",
        "colab_type": "code",
        "colab": {}
      },
      "cell_type": "code",
      "source": [
        "model = Model(inputs = [text_in, image_in], outputs = outputs)"
      ],
      "execution_count": 0,
      "outputs": []
    },
    {
      "metadata": {
        "id": "nTiS-bboNEO_",
        "colab_type": "code",
        "colab": {}
      },
      "cell_type": "code",
      "source": [
        "model.compile(optimizer=Adam(lr=learning_rate), loss='categorical_crossentropy', metrics=['accuracy'])"
      ],
      "execution_count": 0,
      "outputs": []
    },
    {
      "metadata": {
        "id": "ORVmiUdclVBo",
        "colab_type": "code",
        "colab": {}
      },
      "cell_type": "code",
      "source": [
        "cp gdrive/My\\ Drive/NNFL_Project_NEW_CNN.h5 NNFL_Project_NEW_CNN.h5"
      ],
      "execution_count": 0,
      "outputs": []
    },
    {
      "metadata": {
        "id": "22BoNgjhlZLd",
        "colab_type": "code",
        "colab": {}
      },
      "cell_type": "code",
      "source": [
        "model2 = keras.models.load_model('NNFL_Project_NEW_CNN.h5')"
      ],
      "execution_count": 0,
      "outputs": []
    },
    {
      "metadata": {
        "id": "IWsyb44BlfLG",
        "colab_type": "code",
        "outputId": "a3e380db-f3d0-45cc-f5ba-4fa262940a43",
        "colab": {
          "base_uri": "https://localhost:8080/",
          "height": 68
        }
      },
      "cell_type": "code",
      "source": [
        "ls"
      ],
      "execution_count": 0,
      "outputs": [
        {
          "output_type": "stream",
          "text": [
            "\u001b[0m\u001b[01;34mgdrive\u001b[0m/                       NNFL_Project_NEW_CNN_1.h5  Quest_Answers.json\n",
            "\u001b[01;34mimages\u001b[0m/                       NNFL_Project_NEW_CNN.h5    \u001b[01;34msample_data\u001b[0m/\n",
            "NNFL_checkpoint_model_CNN.h5  NNFL.zip                   tokenizer.pickle\n"
          ],
          "name": "stdout"
        }
      ]
    },
    {
      "metadata": {
        "id": "fTiZuyoJSBiU",
        "colab_type": "code",
        "colab": {}
      },
      "cell_type": "code",
      "source": [
        "from keras.callbacks import ModelCheckpoint, EarlyStopping, LearningRateScheduler\n",
        "checkpoint = ModelCheckpoint('NNFL_checkpoint_model_CNN.h5', monitor = 'val_loss', verbose = 1, save_best_only = True, save_weights_only = False, mode = 'auto', period = 1)"
      ],
      "execution_count": 0,
      "outputs": []
    },
    {
      "metadata": {
        "id": "_AwebSlGsnBt",
        "colab_type": "code",
        "outputId": "be1b4160-d7d7-4af1-a3e2-5158c4474274",
        "colab": {
          "base_uri": "https://localhost:8080/",
          "height": 716
        }
      },
      "cell_type": "code",
      "source": [
        "history = model2.fit(x_train, y_train, batch_size=32, epochs=10, validation_split= 0.1, shuffle=True, verbose=1, callbacks = [checkpoint])"
      ],
      "execution_count": 0,
      "outputs": [
        {
          "output_type": "stream",
          "text": [
            "Train on 121500 samples, validate on 13500 samples\n",
            "Epoch 1/10\n",
            "121500/121500 [==============================] - 126s 1ms/step - loss: 1.0063 - acc: 0.4869 - val_loss: 1.0253 - val_acc: 0.4619\n",
            "\n",
            "Epoch 00001: val_loss improved from inf to 1.02529, saving model to NNFL_checkpoint_model_CNN.h5\n",
            "Epoch 2/10\n",
            "121500/121500 [==============================] - 133s 1ms/step - loss: 1.0046 - acc: 0.4883 - val_loss: 1.0294 - val_acc: 0.4575\n",
            "\n",
            "Epoch 00002: val_loss did not improve from 1.02529\n",
            "Epoch 3/10\n",
            "121500/121500 [==============================] - 125s 1ms/step - loss: 1.0034 - acc: 0.4895 - val_loss: 1.0286 - val_acc: 0.4521\n",
            "\n",
            "Epoch 00003: val_loss did not improve from 1.02529\n",
            "Epoch 4/10\n",
            "121500/121500 [==============================] - 133s 1ms/step - loss: 0.9991 - acc: 0.4917 - val_loss: 1.0226 - val_acc: 0.4586\n",
            "\n",
            "Epoch 00004: val_loss improved from 1.02529 to 1.02261, saving model to NNFL_checkpoint_model_CNN.h5\n",
            "Epoch 5/10\n",
            "121500/121500 [==============================] - 132s 1ms/step - loss: 0.9978 - acc: 0.4930 - val_loss: 1.0267 - val_acc: 0.4623\n",
            "\n",
            "Epoch 00005: val_loss did not improve from 1.02261\n",
            "Epoch 6/10\n",
            "121500/121500 [==============================] - 127s 1ms/step - loss: 0.9987 - acc: 0.4936 - val_loss: 1.0305 - val_acc: 0.4636\n",
            "\n",
            "Epoch 00006: val_loss did not improve from 1.02261\n",
            "Epoch 7/10\n",
            "121500/121500 [==============================] - 127s 1ms/step - loss: 0.9936 - acc: 0.4946 - val_loss: 1.0314 - val_acc: 0.4652\n",
            "\n",
            "Epoch 00007: val_loss did not improve from 1.02261\n",
            "Epoch 8/10\n",
            "121500/121500 [==============================] - 129s 1ms/step - loss: 0.9909 - acc: 0.4976 - val_loss: 1.0273 - val_acc: 0.4609\n",
            "\n",
            "Epoch 00008: val_loss did not improve from 1.02261\n",
            "Epoch 9/10\n",
            "121500/121500 [==============================] - 143s 1ms/step - loss: 0.9891 - acc: 0.4986 - val_loss: 1.0389 - val_acc: 0.4586\n",
            "\n",
            "Epoch 00009: val_loss did not improve from 1.02261\n",
            "Epoch 10/10\n",
            "121500/121500 [==============================] - 131s 1ms/step - loss: 0.9861 - acc: 0.4993 - val_loss: 1.0351 - val_acc: 0.4589\n",
            "\n",
            "Epoch 00010: val_loss did not improve from 1.02261\n"
          ],
          "name": "stdout"
        }
      ]
    },
    {
      "metadata": {
        "id": "_wXrArKeYoDy",
        "colab_type": "code",
        "colab": {}
      },
      "cell_type": "code",
      "source": [
        "model.save('NNFL_Project_NEW_CNN_1.h5')"
      ],
      "execution_count": 0,
      "outputs": []
    },
    {
      "metadata": {
        "id": "aZ66CuWkowEB",
        "colab_type": "code",
        "outputId": "ecfc8b10-7c31-471e-b37b-96e9f13b69e5",
        "colab": {
          "base_uri": "https://localhost:8080/",
          "height": 68
        }
      },
      "cell_type": "code",
      "source": [
        "ls"
      ],
      "execution_count": 0,
      "outputs": [
        {
          "output_type": "stream",
          "text": [
            "\u001b[0m\u001b[01;34mgdrive\u001b[0m/    NNFL_checkpoint_model_CNN.h5  NNFL.zip            tokenizer.pickle\n",
            "\u001b[01;34mimages\u001b[0m/    NNFL_Project_NEW_CNN_1.h5     Quest_Answers.json\n",
            "model.png  NNFL_Project_NEW_CNN.h5       \u001b[01;34msample_data\u001b[0m/\n"
          ],
          "name": "stdout"
        }
      ]
    },
    {
      "metadata": {
        "id": "QNfEuH7bYy0r",
        "colab_type": "code",
        "colab": {}
      },
      "cell_type": "code",
      "source": [
        "model2 = keras.models.load_model('NNFL_Project_NEW_CNN_1.h5')"
      ],
      "execution_count": 0,
      "outputs": []
    },
    {
      "metadata": {
        "id": "GALgzHGaSqM1",
        "colab_type": "code",
        "colab": {}
      },
      "cell_type": "code",
      "source": [
        "model3 = keras.models.load_model('NNFL_checkpoint_model_CNN.h5')"
      ],
      "execution_count": 0,
      "outputs": []
    },
    {
      "metadata": {
        "id": "cxFDZSShRtL0",
        "colab_type": "code",
        "colab": {}
      },
      "cell_type": "code",
      "source": [
        "cp NNFL_Project_NEW_CNN_1.h5 gdrive/My\\ Drive/NNFL_Project_NEW_CNN_1.h5"
      ],
      "execution_count": 0,
      "outputs": []
    },
    {
      "metadata": {
        "id": "fKbYykPxSkW2",
        "colab_type": "code",
        "colab": {}
      },
      "cell_type": "code",
      "source": [
        "cp NNFL_checkpoint_model_CNN.h5 gdrive/My\\ Drive/NNFL_checkpoint_model_CNN.h5"
      ],
      "execution_count": 0,
      "outputs": []
    },
    {
      "metadata": {
        "id": "sduY9WDRizLB",
        "colab_type": "code",
        "colab": {}
      },
      "cell_type": "code",
      "source": [
        "#cp tokenizer.pickle gdrive/My\\ Drive/tokenizer.pickle"
      ],
      "execution_count": 0,
      "outputs": []
    },
    {
      "metadata": {
        "id": "IsgnDWFq-MzH",
        "colab_type": "code",
        "outputId": "db33df66-3c0a-42b6-bca7-c0f94354e3e4",
        "colab": {
          "base_uri": "https://localhost:8080/",
          "height": 34
        }
      },
      "cell_type": "code",
      "source": [
        "print(history.history.keys())"
      ],
      "execution_count": 0,
      "outputs": [
        {
          "output_type": "stream",
          "text": [
            "dict_keys(['val_loss', 'val_acc', 'loss', 'acc'])\n"
          ],
          "name": "stdout"
        }
      ]
    },
    {
      "metadata": {
        "id": "OOaPNd6j5Z_m",
        "colab_type": "code",
        "outputId": "5e1e8e8a-07db-42c9-f86e-0ee958ff0424",
        "colab": {
          "base_uri": "https://localhost:8080/",
          "height": 376
        }
      },
      "cell_type": "code",
      "source": [
        "import matplotlib.pyplot as plt\n",
        "#  \"Accuracy\"\n",
        "plt.plot(history.history['acc'])\n",
        "plt.plot(history.history['val_acc'])\n",
        "plt.title('model accuracy')\n",
        "plt.ylabel('accuracy')\n",
        "plt.xlabel('epoch')\n",
        "plt.legend(['train', 'validation'], loc='upper left')\n",
        "plt.show()"
      ],
      "execution_count": 0,
      "outputs": [
        {
          "output_type": "display_data",
          "data": {
            "image/png": "[encoded data removed]",
            "text/plain": [
              "<matplotlib.figure.Figure at 0x7f3d913c29b0>"
            ]
          },
          "metadata": {
            "tags": []
          }
        }
      ]
    },
    {
      "metadata": {
        "id": "vcyJcMyd-JTu",
        "colab_type": "code",
        "outputId": "458bb556-9cd5-48c1-e655-ce6019f704d6",
        "colab": {
          "base_uri": "https://localhost:8080/",
          "height": 376
        }
      },
      "cell_type": "code",
      "source": [
        "# \"Loss\"\n",
        "plt.plot(history.history['loss'])\n",
        "plt.plot(history.history['val_loss'])\n",
        "plt.title('model loss')\n",
        "plt.ylabel('loss')\n",
        "plt.xlabel('epoch')\n",
        "plt.legend(['train', 'validation'], loc='upper left')\n",
        "plt.show()"
      ],
      "execution_count": 0,
      "outputs": [
        {
          "output_type": "display_data",
          "data": {
            "image/png": "[encoded data removed]",
            "text/plain": [
              "<matplotlib.figure.Figure at 0x7f3d7f2b0358>"
            ]
          },
          "metadata": {
            "tags": []
          }
        }
      ]
    },
    {
      "metadata": {
        "id": "oEq9BaOph8kL",
        "colab_type": "code",
        "colab": {}
      },
      "cell_type": "code",
      "source": [
        "model.summary()"
      ],
      "execution_count": 0,
      "outputs": []
    },
    {
      "metadata": {
        "id": "-reo-Q5Sh8ZJ",
        "colab_type": "code",
        "colab": {}
      },
      "cell_type": "code",
      "source": [
        "from keras.utils import plot_model\n",
        "plot_model(model, to_file='model.png')"
      ],
      "execution_count": 0,
      "outputs": []
    },
    {
      "metadata": {
        "id": "e_w-Lkve7Dp_",
        "colab_type": "code",
        "colab": {}
      },
      "cell_type": "code",
      "source": [
        "cp model.png gdrive/My\\ Drive/model.png"
      ],
      "execution_count": 0,
      "outputs": []
    },
    {
      "metadata": {
        "id": "ur2tabzEH-xv",
        "colab_type": "code",
        "colab": {}
      },
      "cell_type": "code",
      "source": [
        "!pip install pydot"
      ],
      "execution_count": 0,
      "outputs": []
    },
    {
      "metadata": {
        "id": "mnAjG1MA3gtc",
        "colab_type": "code",
        "colab": {}
      },
      "cell_type": "code",
      "source": [
        "# https://pypi.python.org/pypi/pydot\n",
        "!apt-get -qq install -y graphviz && pip install -q pydot\n",
        "import pydot"
      ],
      "execution_count": 0,
      "outputs": []
    },
    {
      "metadata": {
        "id": "C8hiRthH34qa",
        "colab_type": "code",
        "colab": {}
      },
      "cell_type": "code",
      "source": [
        "!pip install -q pydot"
      ],
      "execution_count": 0,
      "outputs": []
    },
    {
      "metadata": {
        "id": "8vrkUM6n4g-l",
        "colab_type": "code",
        "colab": {}
      },
      "cell_type": "code",
      "source": [
        ""
      ],
      "execution_count": 0,
      "outputs": []
    }
  ]
}